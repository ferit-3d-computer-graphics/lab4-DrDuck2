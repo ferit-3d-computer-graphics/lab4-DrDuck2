{
 "cells": [
  {
   "cell_type": "code",
   "execution_count": 4,
   "id": "3d40886d-63f6-4337-b7b0-7a9f0e494d46",
   "metadata": {},
   "outputs": [
    {
     "data": {
      "application/vnd.jupyter.widget-view+json": {
       "model_id": "9315518ba9c3432fbdc25dc588c3da7e",
       "version_major": 2,
       "version_minor": 0
      },
      "text/plain": [
       "Output()"
      ]
     },
     "metadata": {},
     "output_type": "display_data"
    }
   ],
   "source": [
    "import k3d\n",
    "import numpy as np\n",
    "\n",
    "size = 32\n",
    "x, y, z = np.meshgrid(np.linspace(-1.5, 1.5, size),\n",
    "                     np.linspace(-1.5, 1.5, size),\n",
    "                     np.linspace(-1.5, 1.5, size),\n",
    "                     indexing='ij')\n",
    "\n",
    "\n",
    "r = np.sqrt(x**2 + y**2 + z**2)\n",
    "field = np.exp(-r**2).astype(np.float32)  \n",
    "\n",
    "custom_cmap = [\n",
    "    [0.0, 0.0, 1.0, 1.0], \n",
    "    [1.0, 0.0, 0.0, 1.0]   \n",
    "]\n",
    "\n",
    "plot = k3d.plot()\n",
    "surface = k3d.marching_cubes(\n",
    "    scalar_field=field,\n",
    "    level=0.5,\n",
    "    attribute=r.astype(np.float32).flatten(), \n",
    "    color_map=custom_cmap,\n",
    "    color_range=[r.min(), r.max()],           \n",
    "    wireframe=False,\n",
    "    flat_shading=False,\n",
    "    bounds=[-1.5, 1.5, -1.5, 1.5, -1.5, 1.5] \n",
    ")\n",
    "\n",
    "plot += surface\n",
    "plot.display()\n",
    "\n",
    "\n",
    "\n"
   ]
  },
  {
   "cell_type": "code",
   "execution_count": null,
   "id": "afb949a6-08ed-4a6a-b41b-fe74d9ae7e99",
   "metadata": {},
   "outputs": [],
   "source": []
  }
 ],
 "metadata": {
  "kernelspec": {
   "display_name": "Python 3 (ipykernel)",
   "language": "python",
   "name": "python3"
  },
  "language_info": {
   "codemirror_mode": {
    "name": "ipython",
    "version": 3
   },
   "file_extension": ".py",
   "mimetype": "text/x-python",
   "name": "python",
   "nbconvert_exporter": "python",
   "pygments_lexer": "ipython3",
   "version": "3.9.21"
  }
 },
 "nbformat": 4,
 "nbformat_minor": 5
}
