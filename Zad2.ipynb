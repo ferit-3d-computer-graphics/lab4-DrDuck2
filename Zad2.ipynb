{
 "cells": [
  {
   "cell_type": "code",
   "execution_count": 1,
   "id": "94803cdf-f42d-41aa-9ca0-f22cd3ae7a4f",
   "metadata": {},
   "outputs": [
    {
     "data": {
      "application/vnd.jupyter.widget-view+json": {
       "model_id": "85347b61e50b4546a485aaf27dca93ea",
       "version_major": 2,
       "version_minor": 0
      },
      "text/plain": [
       "Output()"
      ]
     },
     "metadata": {},
     "output_type": "display_data"
    }
   ],
   "source": [
    "import k3d\n",
    "import numpy as np\n",
    "\n",
    "size = 32\n",
    "x, y, z = np.indices((size, size, size))\n",
    "center = size // 2\n",
    "r = np.sqrt((x - center)**2 + (y - center)**2 + (z - center)**2)\n",
    "field = np.exp(-r**2 / (size/4)**2)  \n",
    "field = (field - field.min()) / (field.max() - field.min()) \n",
    "\n",
    "plot = k3d.plot()\n",
    "\n",
    "surfaces = [\n",
    "    (0.3, 0xFF0000), \n",
    "    (0.5, 0x00FF00),  \n",
    "    (0.7, 0x0000FF)   \n",
    "]\n",
    "\n",
    "for level, color in surfaces:\n",
    "    surface = k3d.marching_cubes(\n",
    "        field.astype(np.float32),\n",
    "        level=level,\n",
    "        color=color,\n",
    "        wireframe=False,\n",
    "        flat_shading=True,\n",
    "        opacity=0.7,\n",
    "        bounds=[0, size, 0, size, 0, size]\n",
    "    )\n",
    "    plot += surface\n",
    "\n",
    "plot.grid = [0, 0, 0, size, size, size]\n",
    "plot.camera = [60, 60, 60, center, center, center, 0, 0, 1]\n",
    "plot.display()\n"
   ]
  },
  {
   "cell_type": "code",
   "execution_count": null,
   "id": "def9dbc0-0a83-46d7-8e68-e9bf037c5c28",
   "metadata": {},
   "outputs": [],
   "source": []
  }
 ],
 "metadata": {
  "kernelspec": {
   "display_name": "Python 3 (ipykernel)",
   "language": "python",
   "name": "python3"
  },
  "language_info": {
   "codemirror_mode": {
    "name": "ipython",
    "version": 3
   },
   "file_extension": ".py",
   "mimetype": "text/x-python",
   "name": "python",
   "nbconvert_exporter": "python",
   "pygments_lexer": "ipython3",
   "version": "3.9.21"
  }
 },
 "nbformat": 4,
 "nbformat_minor": 5
}
