{
 "cells": [
  {
   "cell_type": "code",
   "execution_count": 3,
   "id": "036a833c-0a5c-47a2-bedc-148c209914f4",
   "metadata": {},
   "outputs": [
    {
     "data": {
      "application/vnd.jupyter.widget-view+json": {
       "model_id": "bf022d310b7b4c5e817f7e2e906f97b8",
       "version_major": 2,
       "version_minor": 0
      },
      "text/plain": [
       "Output()"
      ]
     },
     "metadata": {},
     "output_type": "display_data"
    }
   ],
   "source": [
    "import k3d\n",
    "import numpy as np\n",
    "import time\n",
    "import matplotlib.pyplot as plt\n",
    "\n",
    "plot = k3d.plot()\n",
    "size = 32 \n",
    "center = size // 2\n",
    "current_surface = None\n",
    "\n",
    "x, y, z = np.indices((size, size, size))\n",
    "\n",
    "n_frames = 30\n",
    "radius_range = np.linspace(3, 15, n_frames)\n",
    "\n",
    "cmap = plt.cm.jet\n",
    "colors = []\n",
    "for i in range(n_frames):\n",
    "    rgba = cmap(i/n_frames, bytes=True)  \n",
    "    hex_color = f'{rgba[0]:02x}{rgba[1]:02x}{rgba[2]:02x}'  \n",
    "    colors.append(int(hex_color, 16))  \n",
    "\n",
    "plot.display()\n",
    "\n",
    "for frame in range(n_frames):\n",
    "    radius = radius_range[frame]\n",
    "    r = np.sqrt((x - center)**2 + (y - center)**2 + (z - center)**2)\n",
    "    field = np.where(r < radius, 1.0, 0.0).astype(np.float32)\n",
    "    \n",
    "    new_surface = k3d.marching_cubes(\n",
    "        field,\n",
    "        level=0.5,\n",
    "        color=colors[frame],\n",
    "        wireframe=False,\n",
    "        flat_shading=True,\n",
    "        bounds=[0, size, 0, size, 0, size]\n",
    "    )\n",
    "    \n",
    "    if current_surface:\n",
    "        plot -= current_surface\n",
    "    plot += new_surface\n",
    "    current_surface = new_surface\n",
    "    \n",
    "    time.sleep(0.1)\n"
   ]
  },
  {
   "cell_type": "code",
   "execution_count": null,
   "id": "71cea35e-b1d2-4e61-89e4-1d089774b7a0",
   "metadata": {},
   "outputs": [],
   "source": []
  }
 ],
 "metadata": {
  "kernelspec": {
   "display_name": "Python 3 (ipykernel)",
   "language": "python",
   "name": "python3"
  },
  "language_info": {
   "codemirror_mode": {
    "name": "ipython",
    "version": 3
   },
   "file_extension": ".py",
   "mimetype": "text/x-python",
   "name": "python",
   "nbconvert_exporter": "python",
   "pygments_lexer": "ipython3",
   "version": "3.9.21"
  }
 },
 "nbformat": 4,
 "nbformat_minor": 5
}
