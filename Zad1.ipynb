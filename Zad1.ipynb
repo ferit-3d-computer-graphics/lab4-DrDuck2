{
 "cells": [
  {
   "cell_type": "code",
   "execution_count": 2,
   "id": "e442b2d7-d938-47dc-b63a-7931fbb46f9f",
   "metadata": {},
   "outputs": [
    {
     "name": "stdout",
     "output_type": "stream",
     "text": [
      "Visualizing gaussian at 16³ resolution...\n"
     ]
    },
    {
     "data": {
      "application/vnd.jupyter.widget-view+json": {
       "model_id": "cf4a1ddedb7a4022b61fabfb1d7b89ca",
       "version_major": 2,
       "version_minor": 0
      },
      "text/plain": [
       "Output()"
      ]
     },
     "metadata": {},
     "output_type": "display_data"
    },
    {
     "name": "stdout",
     "output_type": "stream",
     "text": [
      "Visualizing sine_wave at 32³ resolution...\n"
     ]
    },
    {
     "data": {
      "application/vnd.jupyter.widget-view+json": {
       "model_id": "1bb2ca6aa3e24c6c8ea3164965d0f47d",
       "version_major": 2,
       "version_minor": 0
      },
      "text/plain": [
       "Output()"
      ]
     },
     "metadata": {},
     "output_type": "display_data"
    },
    {
     "name": "stdout",
     "output_type": "stream",
     "text": [
      "Visualizing noise at 64³ resolution...\n"
     ]
    },
    {
     "data": {
      "application/vnd.jupyter.widget-view+json": {
       "model_id": "f408c2462bd54c16874a10f96a2c1afe",
       "version_major": 2,
       "version_minor": 0
      },
      "text/plain": [
       "Output()"
      ]
     },
     "metadata": {},
     "output_type": "display_data"
    }
   ],
   "source": [
    "import k3d\n",
    "import numpy as np\n",
    "\n",
    "def create_scalar_field(size=32, field_type='gaussian'):\n",
    "    x, y, z = np.indices((size, size, size))\n",
    "    center = size // 2\n",
    "    \n",
    "    if field_type == 'gaussian':\n",
    "        r = np.sqrt((x - center)**2 + (y - center)**2 + (z - center)**2)\n",
    "        field = np.exp(-r**2 / (2*(size/8)**2))\n",
    "        \n",
    "    elif field_type == 'sine_wave':\n",
    "        field = np.sin(x*0.5) * np.cos(y*0.5) * np.sin(z*0.5)\n",
    "        \n",
    "    elif field_type == 'noise':\n",
    "        field = np.random.rand(size, size, size)\n",
    "    \n",
    "    return (field - field.min()) / (field.max() - field.min() + 1e-8)\n",
    "\n",
    "def visualize_field(field, resolution):\n",
    "    plot = k3d.plot()\n",
    "    volume = k3d.volume(\n",
    "        field.astype(np.float32),\n",
    "        color_map=k3d.colormaps.basic_color_maps.Jet,\n",
    "        bounds=[0, resolution, 0, resolution, 0, resolution],\n",
    "        samples=128\n",
    "    )\n",
    "    plot += volume\n",
    "    plot.display()\n",
    "\n",
    "configurations = [\n",
    "    (16, 'gaussian'),\n",
    "    (32, 'sine_wave'),\n",
    "    (64, 'noise')\n",
    "]\n",
    "\n",
    "for resolution, field_type in configurations:\n",
    "    print(f\"Visualizing {field_type} at {resolution}³ resolution...\")\n",
    "    field = create_scalar_field(resolution, field_type)\n",
    "    visualize_field(field, resolution)\n"
   ]
  },
  {
   "cell_type": "code",
   "execution_count": null,
   "id": "64d564aa-de81-4461-a692-527335ef38c7",
   "metadata": {},
   "outputs": [],
   "source": []
  }
 ],
 "metadata": {
  "kernelspec": {
   "display_name": "Python 3 (ipykernel)",
   "language": "python",
   "name": "python3"
  },
  "language_info": {
   "codemirror_mode": {
    "name": "ipython",
    "version": 3
   },
   "file_extension": ".py",
   "mimetype": "text/x-python",
   "name": "python",
   "nbconvert_exporter": "python",
   "pygments_lexer": "ipython3",
   "version": "3.9.21"
  }
 },
 "nbformat": 4,
 "nbformat_minor": 5
}
